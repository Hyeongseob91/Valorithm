{
 "cells": [
  {
   "cell_type": "markdown",
   "id": "0c0cf099",
   "metadata": {},
   "source": [
    "# WRG: Weapon Recoil Generation"
   ]
  },
  {
   "cell_type": "markdown",
   "id": "e8d0a9be",
   "metadata": {},
   "source": [
    "## 1. 좌표 값 생성 함수 설계"
   ]
  },
  {
   "cell_type": "code",
   "execution_count": 1,
   "id": "0ce084f6",
   "metadata": {},
   "outputs": [],
   "source": [
    "import numpy as np\n",
    "\n",
    "def generate_segmented_recoil(shots):\n",
    "    x = []\n",
    "    y = []\n",
    "\n",
    "    for i in range(1, shots + 1):\n",
    "        # 초탄\n",
    "        if i <= int(shots/3):\n",
    "            dx = np.random.normal(0.1, 0.05)        # 약간의 X축 흔들림 부여\n",
    "            dy = np.random.uniform(0.3, 0.5)        # 세로 반동 (조금 줄임)\n",
    "        # 중탄\n",
    "        elif i <= int((shots/3)*2):\n",
    "            dx = np.random.normal(0.3, 0.25)        # X축 미세 흔들림 증가\n",
    "            dy = np.random.normal(0.3, 0.3)\n",
    "        # 후탄\n",
    "        else:\n",
    "            dx = np.random.uniform(-1, 1)           # X축 흔들림 강함\n",
    "            dy = np.random.normal(0.05, 0.02)       # Y축 거의 없음\n",
    "\n",
    "        x.append(dx)\n",
    "        y.append(dy)\n",
    "\n",
    "    x_cum = np.cumsum(x)\n",
    "    y_cum = np.cumsum(y)\n",
    "\n",
    "    return x_cum, y_cum"
   ]
  },
  {
   "cell_type": "markdown",
   "id": "8ca4775b",
   "metadata": {},
   "source": [
    "## 2. 데이터 증강 및 저장 함수 설계"
   ]
  },
  {
   "cell_type": "code",
   "execution_count": 116,
   "id": "90bb4d71",
   "metadata": {},
   "outputs": [],
   "source": [
    "import json\n",
    "\n",
    "def generate_recoil_dataset(shots):\n",
    "    recoil_dataset = []\n",
    "    for i in range(100):\n",
    "        x, y = generate_segmented_recoil(shots)\n",
    "        dataset = [{'x': float(xi), 'y': float(yi)} for xi, yi in zip(x, y)]\n",
    "        recoil_dataset.append({\n",
    "            f'INDEX': i,\n",
    "            'DATA': dataset\n",
    "        })\n",
    "\n",
    "    with open (\"data/recoil_segmented_dataset.json\", \"w\", encoding=\"utf-8\") as f:\n",
    "        json.dump(recoil_dataset, f, indent=2, ensure_ascii=False)\n",
    "\n",
    "    print(\"'recoil_segmented_dataset.json' 파일로 저장 완료되었습니다.\")\n",
    "\n",
    "    return x, y"
   ]
  },
  {
   "cell_type": "markdown",
   "id": "6dc774f0",
   "metadata": {},
   "source": [
    "## 3. 시각화 함수 설계"
   ]
  },
  {
   "cell_type": "code",
   "execution_count": 3,
   "id": "9a7efd3a",
   "metadata": {},
   "outputs": [],
   "source": [
    "import matplotlib.pyplot as plt\n",
    "\n",
    "def plot_recoil_pattern(x, y):\n",
    "    plt.figure(figsize=(5, 5))\n",
    "    plt.scatter(x, y, c='red', s=10, marker='s')  # y축 반전해서 위로 튀는 느낌\n",
    "    plt.axhline(0, color='black', linestyle='--', linewidth=1)\n",
    "    plt.axvline(0, color='black', linestyle='--', linewidth=1)\n",
    "    plt.gca().set_facecolor('white')\n",
    "    plt.grid(True, linestyle=':', color='grey', alpha=0.3)\n",
    "    plt.xticks(np.arange(-10, 10, 1))\n",
    "    plt.yticks(np.arange(-10, 10, 1))\n",
    "    plt.xlim(-10, 10)\n",
    "    plt.ylim(-10, 10)\n",
    "    plt.gca().set_aspect('equal')\n",
    "    plt.title(\"Improved Recoil Pattern (30 shots)\", color='black')\n",
    "    plt.tick_params(colors='black')\n",
    "    plt.tight_layout()\n",
    "    plt.show()"
   ]
  },
  {
   "cell_type": "markdown",
   "id": "d0e0a785",
   "metadata": {},
   "source": [
    "## 4. 사용 예시"
   ]
  },
  {
   "cell_type": "code",
   "execution_count": 118,
   "id": "d39115aa",
   "metadata": {},
   "outputs": [
    {
     "name": "stdout",
     "output_type": "stream",
     "text": [
      "'recoil_segmented_dataset.json' 파일로 저장 완료되었습니다.\n"
     ]
    },
    {
     "data": {
      "text/html": [
       "<div>\n",
       "<style scoped>\n",
       "    .dataframe tbody tr th:only-of-type {\n",
       "        vertical-align: middle;\n",
       "    }\n",
       "\n",
       "    .dataframe tbody tr th {\n",
       "        vertical-align: top;\n",
       "    }\n",
       "\n",
       "    .dataframe thead th {\n",
       "        text-align: right;\n",
       "    }\n",
       "</style>\n",
       "<table border=\"1\" class=\"dataframe\">\n",
       "  <thead>\n",
       "    <tr style=\"text-align: right;\">\n",
       "      <th></th>\n",
       "      <th>0</th>\n",
       "    </tr>\n",
       "  </thead>\n",
       "  <tbody>\n",
       "    <tr>\n",
       "      <th>0.316053</th>\n",
       "      <td>0.084379</td>\n",
       "    </tr>\n",
       "    <tr>\n",
       "      <th>0.640934</th>\n",
       "      <td>0.133716</td>\n",
       "    </tr>\n",
       "    <tr>\n",
       "      <th>0.984225</th>\n",
       "      <td>0.290540</td>\n",
       "    </tr>\n",
       "    <tr>\n",
       "      <th>1.450935</th>\n",
       "      <td>0.354123</td>\n",
       "    </tr>\n",
       "    <tr>\n",
       "      <th>1.816876</th>\n",
       "      <td>0.529132</td>\n",
       "    </tr>\n",
       "    <tr>\n",
       "      <th>2.192387</th>\n",
       "      <td>0.590850</td>\n",
       "    </tr>\n",
       "    <tr>\n",
       "      <th>2.689334</th>\n",
       "      <td>0.688185</td>\n",
       "    </tr>\n",
       "    <tr>\n",
       "      <th>3.151189</th>\n",
       "      <td>0.773504</td>\n",
       "    </tr>\n",
       "    <tr>\n",
       "      <th>3.473188</th>\n",
       "      <td>0.871227</td>\n",
       "    </tr>\n",
       "    <tr>\n",
       "      <th>3.782386</th>\n",
       "      <td>0.921013</td>\n",
       "    </tr>\n",
       "    <tr>\n",
       "      <th>3.887761</th>\n",
       "      <td>0.962864</td>\n",
       "    </tr>\n",
       "    <tr>\n",
       "      <th>4.715205</th>\n",
       "      <td>0.904371</td>\n",
       "    </tr>\n",
       "    <tr>\n",
       "      <th>5.164528</th>\n",
       "      <td>1.397881</td>\n",
       "    </tr>\n",
       "    <tr>\n",
       "      <th>5.650535</th>\n",
       "      <td>1.950794</td>\n",
       "    </tr>\n",
       "    <tr>\n",
       "      <th>6.265915</th>\n",
       "      <td>2.408905</td>\n",
       "    </tr>\n",
       "    <tr>\n",
       "      <th>6.067363</th>\n",
       "      <td>2.937182</td>\n",
       "    </tr>\n",
       "    <tr>\n",
       "      <th>6.455716</th>\n",
       "      <td>3.008612</td>\n",
       "    </tr>\n",
       "    <tr>\n",
       "      <th>6.605774</th>\n",
       "      <td>3.186731</td>\n",
       "    </tr>\n",
       "    <tr>\n",
       "      <th>6.797052</th>\n",
       "      <td>3.810266</td>\n",
       "    </tr>\n",
       "    <tr>\n",
       "      <th>7.243630</th>\n",
       "      <td>4.211251</td>\n",
       "    </tr>\n",
       "    <tr>\n",
       "      <th>7.297316</th>\n",
       "      <td>3.718527</td>\n",
       "    </tr>\n",
       "    <tr>\n",
       "      <th>7.324851</th>\n",
       "      <td>4.621586</td>\n",
       "    </tr>\n",
       "    <tr>\n",
       "      <th>7.388556</th>\n",
       "      <td>5.090012</td>\n",
       "    </tr>\n",
       "    <tr>\n",
       "      <th>7.422278</th>\n",
       "      <td>5.503189</td>\n",
       "    </tr>\n",
       "    <tr>\n",
       "      <th>7.485099</th>\n",
       "      <td>6.336695</td>\n",
       "    </tr>\n",
       "    <tr>\n",
       "      <th>7.535551</th>\n",
       "      <td>5.426532</td>\n",
       "    </tr>\n",
       "    <tr>\n",
       "      <th>7.608630</th>\n",
       "      <td>4.510405</td>\n",
       "    </tr>\n",
       "    <tr>\n",
       "      <th>7.673055</th>\n",
       "      <td>4.439207</td>\n",
       "    </tr>\n",
       "    <tr>\n",
       "      <th>7.722118</th>\n",
       "      <td>4.230264</td>\n",
       "    </tr>\n",
       "    <tr>\n",
       "      <th>7.783702</th>\n",
       "      <td>3.385452</td>\n",
       "    </tr>\n",
       "  </tbody>\n",
       "</table>\n",
       "</div>"
      ],
      "text/plain": [
       "                 0\n",
       "0.316053  0.084379\n",
       "0.640934  0.133716\n",
       "0.984225  0.290540\n",
       "1.450935  0.354123\n",
       "1.816876  0.529132\n",
       "2.192387  0.590850\n",
       "2.689334  0.688185\n",
       "3.151189  0.773504\n",
       "3.473188  0.871227\n",
       "3.782386  0.921013\n",
       "3.887761  0.962864\n",
       "4.715205  0.904371\n",
       "5.164528  1.397881\n",
       "5.650535  1.950794\n",
       "6.265915  2.408905\n",
       "6.067363  2.937182\n",
       "6.455716  3.008612\n",
       "6.605774  3.186731\n",
       "6.797052  3.810266\n",
       "7.243630  4.211251\n",
       "7.297316  3.718527\n",
       "7.324851  4.621586\n",
       "7.388556  5.090012\n",
       "7.422278  5.503189\n",
       "7.485099  6.336695\n",
       "7.535551  5.426532\n",
       "7.608630  4.510405\n",
       "7.673055  4.439207\n",
       "7.722118  4.230264\n",
       "7.783702  3.385452"
      ]
     },
     "execution_count": 118,
     "metadata": {},
     "output_type": "execute_result"
    }
   ],
   "source": [
    "import pandas as pd\n",
    "\n",
    "x, y = generate_recoil_dataset(30)\n",
    "# plot_recoil_pattern(x, y)\n",
    "df = pd.DataFrame(x, y)\n",
    "df"
   ]
  },
  {
   "cell_type": "markdown",
   "id": "8c530350",
   "metadata": {},
   "source": [
    "## 5. 학습 데이터 변환"
   ]
  },
  {
   "cell_type": "code",
   "execution_count": 105,
   "id": "06b2e763",
   "metadata": {},
   "outputs": [],
   "source": [
    "import json\n",
    "import numpy as np\n",
    "import pandas as pd\n",
    "from sklearn.model_selection import train_test_split\n",
    "\n",
    "class BulletTrajectory:\n",
    "    \"\"\"총알 궤적을 생성하고 전처리 및 분리하는 클래스\"\"\"\n",
    "    def __init__(self):\n",
    "        self.data = None\n",
    "        self.X_coords = None\n",
    "        self.y_coords = None\n",
    "\n",
    "    def data_load(self, address: str):\n",
    "        \"\"\"데이터 로드 함수\"\"\"\n",
    "        with open(address, \"r\", encoding=\"utf-8\") as f:\n",
    "            self.data = json.load(f)\n",
    "\n",
    "        return self.data\n",
    "\n",
    "    def data_preprocessing(self, raw_data):\n",
    "        \"\"\"데이터 전처리 함수\"\"\"\n",
    "        X_coords, y_coords = [], []\n",
    "        for record in raw_data:\n",
    "            record_points = record[\"DATA\"]\n",
    "            X_coords.append(np.array([[point['x']] for point in record_points]))\n",
    "            y_coords.append(np.array([[point['y']] for point in record_points]))\n",
    "        self.X_coords = X_coords\n",
    "        self.y_coords = y_coords\n",
    "\n",
    "        return X_coords, y_coords\n",
    "\n",
    "    def weapon_recoil_generation(self, X_coords, y_coords):\n",
    "        \"\"\"데이터 프레임 생성하는 함수\"\"\"\n",
    "        df1 = pd.DataFrame(np.array(X_coords).reshape(100, -1))\n",
    "        df2 = pd.DataFrame(np.array(y_coords).reshape(100, -1))\n",
    "        X1 = df1.drop(columns=[0])\n",
    "        y1 = df1[0]\n",
    "        X2 = df2.drop(columns=[0])\n",
    "        y2 = df2[0]\n",
    "\n",
    "        return X1, y1, X2, y2\n",
    "\n",
    "    def data_split(self, x, y):\n",
    "        \"\"\"학습 데이터와 테스트 데이터를 분리하는 함수\"\"\"\n",
    "        X_train, X_test, y_train, y_test = train_test_split(x, y, test_size=0.2, random_state=42)\n",
    "        X_train, X_val, y_train, y_val = train_test_split(X_train, y_train, test_size=0.2, random_state=42)\n",
    "        \n",
    "        return X_train, X_test, X_val, y_train, y_test, y_val"
   ]
  },
  {
   "cell_type": "code",
   "execution_count": 106,
   "id": "644b10b0",
   "metadata": {},
   "outputs": [],
   "source": [
    "trajectory = BulletTrajectory()\n",
    "\n",
    "data = trajectory.data_load(\"data/recoil_segmented_dataset.json\")\n",
    "X, y = trajectory.data_preprocessing(data)\n",
    "X1, y1, X2, y2 = trajectory.weapon_recoil_generation(X, y)\n",
    "X_train, X_test, X_val, y_train, y_test, y_val = trajectory.data_split(X1, y1)"
   ]
  },
  {
   "cell_type": "markdown",
   "id": "3aa12dda",
   "metadata": {},
   "source": [
    "## 6. 학습 모델 설정\n",
    "- 새로운 궤적 패턴 생성\n",
    "- pip install scikit-learn"
   ]
  },
  {
   "cell_type": "markdown",
   "id": "9c4f659c",
   "metadata": {},
   "source": [
    "[목표]\n",
    "\n",
    "모델: RandomForestRegressor\n",
    "\n",
    "데이터: X (총기 반동 궤적 벡터, shape=(100, 59)), y (첫 번째 y 좌표)\n",
    "\n",
    "평가지표: MSE (Mean Squared Error)\n",
    "\n",
    "시각화: 예측값 vs 실제값 scatter plot"
   ]
  },
  {
   "cell_type": "code",
   "execution_count": 107,
   "id": "602a181b",
   "metadata": {},
   "outputs": [
    {
     "name": "stdout",
     "output_type": "stream",
     "text": [
      "MSE: 0.0015\n"
     ]
    }
   ],
   "source": [
    "from sklearn.ensemble import RandomForestRegressor\n",
    "from sklearn.metrics import mean_squared_error\n",
    "import koreanize_matplotlib\n",
    "import matplotlib.pyplot as plt\n",
    "\n",
    "model = RandomForestRegressor(n_estimators=100, random_state=42)\n",
    "model.fit(X_train, y_train)\n",
    "\n",
    "y_pred = model.predict(X_test)\n",
    "mse = mean_squared_error(y_test, y_pred)\n",
    "print(f\"MSE: {mse:.4f}\")\n"
   ]
  },
  {
   "cell_type": "code",
   "execution_count": 108,
   "id": "d723218f",
   "metadata": {},
   "outputs": [
    {
     "data": {
      "image/png": "[encoded data removed]",
      "text/plain": [
       "<Figure size 600x600 with 1 Axes>"
      ]
     },
     "metadata": {},
     "output_type": "display_data"
    }
   ],
   "source": [
    "plt.figure(figsize=(6, 6))\n",
    "plt.scatter(y_test, y_pred, color='blue', alpha=0.7)\n",
    "plt.plot([y_test.min(), y_test.max()], [y_test.min(), y_test.max()], 'r--')\n",
    "plt.xlabel(\"True y (실제 첫 번째 y 좌표)\")\n",
    "plt.ylabel(\"Predicted y (예측값)\")\n",
    "plt.title(\"Random Forest Regressor 예측 결과\")\n",
    "plt.grid(True)\n",
    "plt.tight_layout()\n",
    "plt.show()"
   ]
  }
 ],
 "metadata": {
  "kernelspec": {
   "display_name": "valorant",
   "language": "python",
   "name": "python3"
  },
  "language_info": {
   "codemirror_mode": {
    "name": "ipython",
    "version": 3
   },
   "file_extension": ".py",
   "mimetype": "text/x-python",
   "name": "python",
   "nbconvert_exporter": "python",
   "pygments_lexer": "ipython3",
   "version": "3.11.11"
  }
 },
 "nbformat": 4,
 "nbformat_minor": 5
}
