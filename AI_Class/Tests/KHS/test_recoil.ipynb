{
 "cells": [
  {
   "cell_type": "markdown",
   "id": "0c0cf099",
   "metadata": {},
   "source": [
    "# WRG: Weapon Recoil Generation"
   ]
  },
  {
   "cell_type": "markdown",
   "id": "e8d0a9be",
   "metadata": {},
   "source": [
    "## 1. 좌표 값 생성 함수 설계"
   ]
  },
  {
   "cell_type": "code",
   "execution_count": 61,
   "id": "0ce084f6",
   "metadata": {},
   "outputs": [],
   "source": [
    "import numpy as np\n",
    "\n",
    "class WeaponRecoilGeneration():\n",
    "    \"\"\"\n",
    "    무기 유형별(기관총, 권총, 산탄총) 반동 궤적 데이터를 생성하는 클래스 입니다\n",
    "\n",
    "    Attributes:\n",
    "        shots (int, optional): 총 발사 횟수. 개별 메서드에서 인자로 별도 지정 가능\n",
    "\n",
    "    Methods:\n",
    "        machinegun_recoil_points(shots: int):\n",
    "            기관총 반동 궤적을 생성합니다. \n",
    "            반동이 강하고 연속적인 사격 패턴을 모사합니다.\n",
    "        \n",
    "        pistol_recoil_points(shots: int):\n",
    "            권총 반동 궤적을 생성합니다. \n",
    "            상대적으로 짧고 일관된 반동 패턴을 가집니다.\n",
    "\n",
    "        shotgun_recoil_points(shots: int):\n",
    "            산탄총 반동 궤적을 생성합니다.\n",
    "            퍼짐이 강한 산포형 탄착군을 모사합니다.\n",
    "    \"\"\"\n",
    "\n",
    "    def __init__(self, shots=None):\n",
    "        self.shots = shots\n",
    "\n",
    "    def machinegun_recoil_points(self, shots: int):\n",
    "        x = []\n",
    "        y = []\n",
    "\n",
    "        for i in range(1, shots + 1):\n",
    "            # 초탄\n",
    "            if i <= int(shots/3):\n",
    "                dx = np.random.uniform(0.0, 0.2)        # X축 흔들림 거의 없음\n",
    "                dy = np.random.uniform(0.0, 0.65)       # Y축 미세 흔들림 증가\n",
    "            # 중탄\n",
    "            elif i <= int((shots/3)*2):\n",
    "                dx = np.random.normal(0.1, 0.3)         # X축 미세 흔들림 증가\n",
    "                dy = np.random.normal(0.1, 0.3)         # Y축 미세 흔들림 증가\n",
    "            # 후탄\n",
    "            else:\n",
    "                dx = np.random.uniform(-1, 0.5)         # X축 흔들림 강함\n",
    "                dy = np.random.normal(0.0 , 0.2)        # Y축 흔들림 거의 없음\n",
    "\n",
    "            x.append(dx)\n",
    "            y.append(dy)\n",
    "\n",
    "        # x의 요소를 누적합으로 계산\n",
    "        x_cum = np.cumsum(x)\n",
    "        y_cum = np.cumsum(y)\n",
    "        print(\"생성이 완료되었습니다\")\n",
    "        \n",
    "        return x_cum, y_cum\n",
    "\n",
    "    def pistol_recoil_points(self, shots: int):\n",
    "        x = []\n",
    "        y = []\n",
    "\n",
    "        for i in range(1, shots + 1):\n",
    "            # 초탄\n",
    "            if i <= int(shots/3):\n",
    "                dx = np.random.uniform(0.0, 0.2)        # 약간의 X축 흔들림 부여\n",
    "                dy = np.random.uniform(0.0, 0.5)        # 세로 반동 (조금 줄임)\n",
    "            # 중탄\n",
    "            elif i <= int((shots/3)*2):\n",
    "                dx = np.random.uniform(0.3, 0.3)        # X축 미세 흔들림 증가\n",
    "                dy = np.random.uniform(0.3, 0.3)\n",
    "            # 후탄\n",
    "            else:\n",
    "                dx = np.random.uniform(-0.1, 0.3)       # X축 흔들림 강함\n",
    "                dy = np.random.uniform(-0.1, 0.2)         # Y축 거의 없음\n",
    "\n",
    "            x.append(dx)\n",
    "            y.append(dy)\n",
    "\n",
    "        # x의 요소를 누적합으로 계산\n",
    "        x_cum = np.cumsum(x)\n",
    "        y_cum = np.cumsum(y)\n",
    "        print(\"생성이 완료되었습니다\")\n",
    "\n",
    "        return x_cum, y_cum\n",
    "    \n",
    "    def shotgun_recoil_points(self, shots: int):\n",
    "        x = []\n",
    "        y = []\n",
    "\n",
    "        pellets_per_shot = 16\n",
    "\n",
    "        for i in range(1, shots + 1):\n",
    "            for _ in range(pellets_per_shot):\n",
    "                if i == 1:\n",
    "                    dx = np.random.normal(0.2, 0.4)        # 약간의 X축 흔들림 부여\n",
    "                    dy = np.random.normal(0.1, 0.7)        # 세로 반동 (조금 줄임)\n",
    "                else:\n",
    "                    dx = np.random.normal(-1.0, 1.5)\n",
    "                    dy = np.random.normal(-1.0, 1.5)\n",
    "\n",
    "            x.append(dx)\n",
    "            y.append(dy)\n",
    "\n",
    "        # x의 요소를 누적합으로 계산\n",
    "        x_cum = x\n",
    "        y_cum = y\n",
    "        print(\"생성이 완료되었습니다\")\n",
    "\n",
    "        return x_cum, y_cum  "
   ]
  },
  {
   "cell_type": "markdown",
   "id": "a7068ee9",
   "metadata": {},
   "source": [
    "## 2. 생성 데이터 시각화 및 데이터프레임화 함수 설계"
   ]
  },
  {
   "cell_type": "code",
   "execution_count": 22,
   "id": "79bf5fea",
   "metadata": {},
   "outputs": [],
   "source": [
    "import pandas as pd\n",
    "import koreanize_matplotlib\n",
    "import matplotlib.pyplot as plt\n",
    "\n",
    "class RecoilVisualizer():\n",
    "    \"\"\"\n",
    "    총기 반동 궤적 데이터(x, y)를 시각화하고, Pandas DataFrame 형태로 변환하는 기능을 제공하는 클래스입니다.\n",
    "\n",
    "    Attributes:\n",
    "        x (list or np.ndarray): X축 좌표값 (수평 반동)\n",
    "        y (list or np.ndarray): Y축 좌표값 (수직 반동)\n",
    "\n",
    "    Methods:\n",
    "        plot_recoil_pattern(x, y):\n",
    "            주어진 x, y 좌표값을 기반으로 총기 반동 궤적을 시각화합니다.\n",
    "\n",
    "        dataset(x, y):\n",
    "            주어진 x, y 좌표값을 Pandas DataFrame으로 변환하여 반환합니다.\n",
    "    \"\"\"\n",
    "\n",
    "    def __init__(self, data=None):\n",
    "        self.data = data\n",
    "        \n",
    "    def plot_recoil_pattern(self, data):\n",
    "        \"\"\"생성된 좌표값을 시각화하는 메서드\"\"\"\n",
    "        plt.figure(figsize=(5, 5))\n",
    "        plt.scatter(data[0], data[1], c='red', s=10, marker='s')  # y축 반전해서 위로 튀는 느낌\n",
    "        plt.axhline(0, color='black', linestyle='--', linewidth=1)\n",
    "        plt.axvline(0, color='black', linestyle='--', linewidth=1)\n",
    "        plt.gca().set_facecolor('white')\n",
    "        plt.grid(True, linestyle=':', color='grey', alpha=0.3)\n",
    "        plt.xticks(np.arange(-10, 10, 1))\n",
    "        plt.yticks(np.arange(-10, 10, 1))\n",
    "        plt.xlim(-10, 10)\n",
    "        plt.ylim(-10, 10)\n",
    "        plt.gca().set_aspect('equal')\n",
    "        plt.title(\"Improved Recoil Pattern (30 shots)\", color='black')\n",
    "        plt.tick_params(colors='black')\n",
    "        plt.tight_layout()\n",
    "        \n",
    "        return plt.show()\n",
    "    \n",
    "    def dataset(self, data):\n",
    "        \"\"\"생성된 좌표값을 데이터프레임화하는 메서드\"\"\"\n",
    "        df = pd.DataFrame({\"x\": data[0], \"y\": data[1]})\n",
    "        \n",
    "        return df"
   ]
  },
  {
   "cell_type": "markdown",
   "id": "d0e0a785",
   "metadata": {},
   "source": [
    "## 3. 사용 예시"
   ]
  },
  {
   "cell_type": "code",
   "execution_count": 72,
   "id": "634ddc3f",
   "metadata": {},
   "outputs": [
    {
     "name": "stdout",
     "output_type": "stream",
     "text": [
      "생성이 완료되었습니다\n",
      "생성이 완료되었습니다\n",
      "생성이 완료되었습니다\n"
     ]
    }
   ],
   "source": [
    "wrg = WeaponRecoilGeneration()\n",
    "a = wrg.machinegun_recoil_points(30)\n",
    "b = wrg.pistol_recoil_points(12)\n",
    "c = wrg.shotgun_recoil_points(4)"
   ]
  },
  {
   "cell_type": "code",
   "execution_count": 71,
   "id": "f581ba1a",
   "metadata": {},
   "outputs": [
    {
     "name": "stdout",
     "output_type": "stream",
     "text": [
      "생성이 완료되었습니다\n"
     ]
    },
    {
     "data": {
      "image/png": "[encoded data removed]",
      "text/plain": [
       "<Figure size 500x500 with 1 Axes>"
      ]
     },
     "metadata": {},
     "output_type": "display_data"
    }
   ],
   "source": [
    "rvz = RecoilVisualizer()\n",
    "# rvz.plot_recoil_pattern(a)\n",
    "# rvz.plot_recoil_pattern(b)\n",
    "c = wrg.shotgun_recoil_points(4)\n",
    "rvz.plot_recoil_pattern(c)\n",
    "# rvz.dataset(recoil)"
   ]
  },
  {
   "cell_type": "markdown",
   "id": "8c530350",
   "metadata": {},
   "source": [
    "## 5. 학습 데이터 변환"
   ]
  },
  {
   "cell_type": "code",
   "execution_count": 14,
   "id": "06b2e763",
   "metadata": {},
   "outputs": [],
   "source": [
    "import json\n",
    "import numpy as np\n",
    "import pandas as pd\n",
    "from sklearn.model_selection import train_test_split\n",
    "\n",
    "class BulletTrajectory:\n",
    "    \"\"\"총알 궤적을 생성하고 전처리 및 분리하는 클래스\"\"\"\n",
    "    def __init__(self):\n",
    "        self.data = None\n",
    "        self.X_coords = None\n",
    "        self.y_coords = None\n",
    "\n",
    "    def data_load(self, address: str):\n",
    "        \"\"\"데이터 로드 함수\"\"\"\n",
    "        with open(address, \"r\", encoding=\"utf-8\") as f:\n",
    "            self.data = json.load(f)\n",
    "\n",
    "        return self.data\n",
    "\n",
    "    def data_preprocessing(self, raw_data):\n",
    "        \"\"\"데이터 전처리 함수\"\"\"\n",
    "        X_coords, y_coords = [], []\n",
    "        for record in raw_data:\n",
    "            record_points = record[\"DATA\"]\n",
    "            X_coords.append(np.array([[point['x']] for point in record_points]))\n",
    "            y_coords.append(np.array([[point['y']] for point in record_points]))\n",
    "        self.X_coords = X_coords\n",
    "        self.y_coords = y_coords\n",
    "\n",
    "        return X_coords, y_coords\n",
    "\n",
    "    def weapon_recoil_generation(self, X_coords, y_coords):\n",
    "        \"\"\"데이터 프레임 생성하는 함수\"\"\"\n",
    "        df1 = pd.DataFrame(np.array(X_coords).reshape(100, -1))\n",
    "        df2 = pd.DataFrame(np.array(y_coords).reshape(100, -1))\n",
    "        X1 = df1.drop(columns=[0])\n",
    "        y1 = df1[0]\n",
    "        X2 = df2.drop(columns=[0])\n",
    "        y2 = df2[0]\n",
    "\n",
    "        return X1, y1, X2, y2\n",
    "\n",
    "    def data_split(self, x, y):\n",
    "        \"\"\"학습 데이터와 테스트 데이터를 분리하는 함수\"\"\"\n",
    "        X_train, X_test, y_train, y_test = train_test_split(x, y, test_size=0.2, random_state=42)\n",
    "        X_train, X_val, y_train, y_val = train_test_split(X_train, y_train, test_size=0.2, random_state=42)\n",
    "        \n",
    "        return X_train, X_test, X_val, y_train, y_test, y_val"
   ]
  },
  {
   "cell_type": "code",
   "execution_count": 15,
   "id": "644b10b0",
   "metadata": {},
   "outputs": [],
   "source": [
    "trajectory = BulletTrajectory()\n",
    "\n",
    "data = trajectory.data_load(\"data/recoil_segmented_dataset.json\")\n",
    "X, y = trajectory.data_preprocessing(data)\n",
    "X1, y1, X2, y2 = trajectory.weapon_recoil_generation(X, y)\n",
    "X_train, X_test, X_val, y_train, y_test, y_val = trajectory.data_split(X1, y1)"
   ]
  },
  {
   "cell_type": "markdown",
   "id": "3aa12dda",
   "metadata": {},
   "source": [
    "## 6. 학습 모델 설정\n",
    "- 새로운 궤적 패턴 생성\n",
    "- pip install scikit-learn"
   ]
  },
  {
   "cell_type": "markdown",
   "id": "9c4f659c",
   "metadata": {},
   "source": [
    "[목표]\n",
    "\n",
    "모델: RandomForestRegressor\n",
    "\n",
    "데이터: X (총기 반동 궤적 벡터, shape=(100, 59)), y (첫 번째 y 좌표)\n",
    "\n",
    "평가지표: MSE (Mean Squared Error)\n",
    "\n",
    "시각화: 예측값 vs 실제값 scatter plot"
   ]
  },
  {
   "cell_type": "code",
   "execution_count": 27,
   "id": "602a181b",
   "metadata": {},
   "outputs": [
    {
     "name": "stdout",
     "output_type": "stream",
     "text": [
      "MSE: 0.0016\n"
     ]
    }
   ],
   "source": [
    "from sklearn.ensemble import RandomForestRegressor\n",
    "from sklearn.metrics import mean_squared_error\n",
    "import koreanize_matplotlib\n",
    "import matplotlib.pyplot as plt\n",
    "\n",
    "model = RandomForestRegressor(n_estimators=1000, random_state=42)\n",
    "model.fit(X_train, y_train)\n",
    "\n",
    "y_pred = model.predict(X_test)\n",
    "mse = mean_squared_error(y_test, y_pred)\n",
    "print(f\"MSE: {mse:.4f}\")"
   ]
  },
  {
   "cell_type": "code",
   "execution_count": 25,
   "id": "d723218f",
   "metadata": {},
   "outputs": [
    {
     "data": {
      "image/png": "[encoded data removed]",
      "text/plain": [
       "<Figure size 400x400 with 1 Axes>"
      ]
     },
     "metadata": {},
     "output_type": "display_data"
    }
   ],
   "source": [
    "plt.figure(figsize=(4, 4))\n",
    "plt.scatter(y_test, y_pred, color='blue', alpha=0.7)\n",
    "plt.plot([y_test.min(), y_test.max()], [y_test.min(), y_test.max()], 'r--')\n",
    "plt.xlabel(\"True y (실제 첫 번째 y 좌표)\")\n",
    "plt.ylabel(\"Predicted y (예측값)\")\n",
    "plt.title(\"Random Forest Regressor 예측 결과\")\n",
    "plt.grid(True)\n",
    "plt.tight_layout()\n",
    "plt.show()"
   ]
  }
 ],
 "metadata": {
  "kernelspec": {
   "display_name": "valorant",
   "language": "python",
   "name": "python3"
  },
  "language_info": {
   "codemirror_mode": {
    "name": "ipython",
    "version": 3
   },
   "file_extension": ".py",
   "mimetype": "text/x-python",
   "name": "python",
   "nbconvert_exporter": "python",
   "pygments_lexer": "ipython3",
   "version": "3.11.11"
  }
 },
 "nbformat": 4,
 "nbformat_minor": 5
}
